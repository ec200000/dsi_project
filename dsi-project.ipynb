{
 "metadata": {
  "kernelspec": {
   "language": "python",
   "display_name": "Python 3",
   "name": "python3"
  },
  "language_info": {
   "pygments_lexer": "ipython3",
   "nbconvert_exporter": "python",
   "version": "3.6.4",
   "file_extension": ".py",
   "codemirror_mode": {
    "name": "ipython",
    "version": 3
   },
   "name": "python",
   "mimetype": "text/x-python"
  }
 },
 "nbformat_minor": 4,
 "nbformat": 4,
 "cells": [
  {
   "cell_type": "markdown",
   "source": [
    "Mark Oulitin 208283291\n",
    "Itay Cohen 211896261"
   ],
   "metadata": {
    "collapsed": false
   }
  },
  {
   "cell_type": "code",
   "source": [
    "%matplotlib inline\n",
    "import pandas as pd\n",
    "import numpy as np\n",
    "import matplotlib.pyplot as plt\n",
    "from tensorflow.keras.models import Model\n",
    "from tensorflow.keras.layers import Input\n",
    "from tensorflow.keras.layers import Dense\n",
    "from tensorflow.keras.layers import LeakyReLU\n",
    "from tensorflow.keras.layers import BatchNormalization\n",
    "from tensorflow.keras.utils import plot_model\n",
    "from matplotlib import pyplot\n",
    "from sklearn.model_selection import train_test_split"
   ],
   "metadata": {
    "_uuid": "8f2839f25d086af736a60e9eeb907d3b93b6e0e5",
    "_cell_guid": "b1076dfc-b9ad-4769-8c92-a6c4dae69d19",
    "trusted": true
   },
   "execution_count": 1,
   "outputs": []
  },
  {
   "cell_type": "code",
   "source": [
    "loans = pd.read_csv('input/should-this-loan-be-approved-or-denied/SBAnational.csv')\n",
    "loans.head()"
   ],
   "metadata": {},
   "execution_count": 2,
   "outputs": [
    {
     "name": "stderr",
     "output_type": "stream",
     "text": [
      "c:\\users\\lenovo\\appdata\\local\\programs\\python\\python38\\lib\\site-packages\\IPython\\core\\interactiveshell.py:3172: DtypeWarning: Columns (9) have mixed types.Specify dtype option on import or set low_memory=False.\n",
      "  has_raised = await self.run_ast_nodes(code_ast.body, cell_name,\n"
     ]
    },
    {
     "data": {
      "text/plain": "   LoanNr_ChkDgt                           Name          City State    Zip  \\\n0     1000014003                 ABC HOBBYCRAFT    EVANSVILLE    IN  47711   \n1     1000024006    LANDMARK BAR & GRILLE (THE)     NEW PARIS    IN  46526   \n2     1000034009          WHITLOCK DDS, TODD M.   BLOOMINGTON    IN  47401   \n3     1000044001  BIG BUCKS PAWN & JEWELRY, LLC  BROKEN ARROW    OK  74012   \n4     1000054004    ANASTASIA CONFECTIONS, INC.       ORLANDO    FL  32801   \n\n                            Bank BankState   NAICS ApprovalDate ApprovalFY  \\\n0               FIFTH THIRD BANK        OH  451120    28-Feb-97       1997   \n1                1ST SOURCE BANK        IN  722410    28-Feb-97       1997   \n2        GRANT COUNTY STATE BANK        IN  621210    28-Feb-97       1997   \n3  1ST NATL BK & TR CO OF BROKEN        OK       0    28-Feb-97       1997   \n4        FLORIDA BUS. DEVEL CORP        FL       0    28-Feb-97       1997   \n\n   ...  RevLineCr  LowDoc  ChgOffDate  DisbursementDate  DisbursementGross  \\\n0  ...          N       Y         NaN         28-Feb-99        $60,000.00    \n1  ...          N       Y         NaN         31-May-97        $40,000.00    \n2  ...          N       N         NaN         31-Dec-97       $287,000.00    \n3  ...          N       Y         NaN         30-Jun-97        $35,000.00    \n4  ...          N       N         NaN         14-May-97       $229,000.00    \n\n   BalanceGross  MIS_Status ChgOffPrinGr        GrAppv      SBA_Appv  \n0        $0.00        P I F       $0.00    $60,000.00    $48,000.00   \n1        $0.00        P I F       $0.00    $40,000.00    $32,000.00   \n2        $0.00        P I F       $0.00   $287,000.00   $215,250.00   \n3        $0.00        P I F       $0.00    $35,000.00    $28,000.00   \n4        $0.00        P I F       $0.00   $229,000.00   $229,000.00   \n\n[5 rows x 27 columns]",
      "text/html": "<div>\n<style scoped>\n    .dataframe tbody tr th:only-of-type {\n        vertical-align: middle;\n    }\n\n    .dataframe tbody tr th {\n        vertical-align: top;\n    }\n\n    .dataframe thead th {\n        text-align: right;\n    }\n</style>\n<table border=\"1\" class=\"dataframe\">\n  <thead>\n    <tr style=\"text-align: right;\">\n      <th></th>\n      <th>LoanNr_ChkDgt</th>\n      <th>Name</th>\n      <th>City</th>\n      <th>State</th>\n      <th>Zip</th>\n      <th>Bank</th>\n      <th>BankState</th>\n      <th>NAICS</th>\n      <th>ApprovalDate</th>\n      <th>ApprovalFY</th>\n      <th>...</th>\n      <th>RevLineCr</th>\n      <th>LowDoc</th>\n      <th>ChgOffDate</th>\n      <th>DisbursementDate</th>\n      <th>DisbursementGross</th>\n      <th>BalanceGross</th>\n      <th>MIS_Status</th>\n      <th>ChgOffPrinGr</th>\n      <th>GrAppv</th>\n      <th>SBA_Appv</th>\n    </tr>\n  </thead>\n  <tbody>\n    <tr>\n      <th>0</th>\n      <td>1000014003</td>\n      <td>ABC HOBBYCRAFT</td>\n      <td>EVANSVILLE</td>\n      <td>IN</td>\n      <td>47711</td>\n      <td>FIFTH THIRD BANK</td>\n      <td>OH</td>\n      <td>451120</td>\n      <td>28-Feb-97</td>\n      <td>1997</td>\n      <td>...</td>\n      <td>N</td>\n      <td>Y</td>\n      <td>NaN</td>\n      <td>28-Feb-99</td>\n      <td>$60,000.00</td>\n      <td>$0.00</td>\n      <td>P I F</td>\n      <td>$0.00</td>\n      <td>$60,000.00</td>\n      <td>$48,000.00</td>\n    </tr>\n    <tr>\n      <th>1</th>\n      <td>1000024006</td>\n      <td>LANDMARK BAR &amp; GRILLE (THE)</td>\n      <td>NEW PARIS</td>\n      <td>IN</td>\n      <td>46526</td>\n      <td>1ST SOURCE BANK</td>\n      <td>IN</td>\n      <td>722410</td>\n      <td>28-Feb-97</td>\n      <td>1997</td>\n      <td>...</td>\n      <td>N</td>\n      <td>Y</td>\n      <td>NaN</td>\n      <td>31-May-97</td>\n      <td>$40,000.00</td>\n      <td>$0.00</td>\n      <td>P I F</td>\n      <td>$0.00</td>\n      <td>$40,000.00</td>\n      <td>$32,000.00</td>\n    </tr>\n    <tr>\n      <th>2</th>\n      <td>1000034009</td>\n      <td>WHITLOCK DDS, TODD M.</td>\n      <td>BLOOMINGTON</td>\n      <td>IN</td>\n      <td>47401</td>\n      <td>GRANT COUNTY STATE BANK</td>\n      <td>IN</td>\n      <td>621210</td>\n      <td>28-Feb-97</td>\n      <td>1997</td>\n      <td>...</td>\n      <td>N</td>\n      <td>N</td>\n      <td>NaN</td>\n      <td>31-Dec-97</td>\n      <td>$287,000.00</td>\n      <td>$0.00</td>\n      <td>P I F</td>\n      <td>$0.00</td>\n      <td>$287,000.00</td>\n      <td>$215,250.00</td>\n    </tr>\n    <tr>\n      <th>3</th>\n      <td>1000044001</td>\n      <td>BIG BUCKS PAWN &amp; JEWELRY, LLC</td>\n      <td>BROKEN ARROW</td>\n      <td>OK</td>\n      <td>74012</td>\n      <td>1ST NATL BK &amp; TR CO OF BROKEN</td>\n      <td>OK</td>\n      <td>0</td>\n      <td>28-Feb-97</td>\n      <td>1997</td>\n      <td>...</td>\n      <td>N</td>\n      <td>Y</td>\n      <td>NaN</td>\n      <td>30-Jun-97</td>\n      <td>$35,000.00</td>\n      <td>$0.00</td>\n      <td>P I F</td>\n      <td>$0.00</td>\n      <td>$35,000.00</td>\n      <td>$28,000.00</td>\n    </tr>\n    <tr>\n      <th>4</th>\n      <td>1000054004</td>\n      <td>ANASTASIA CONFECTIONS, INC.</td>\n      <td>ORLANDO</td>\n      <td>FL</td>\n      <td>32801</td>\n      <td>FLORIDA BUS. DEVEL CORP</td>\n      <td>FL</td>\n      <td>0</td>\n      <td>28-Feb-97</td>\n      <td>1997</td>\n      <td>...</td>\n      <td>N</td>\n      <td>N</td>\n      <td>NaN</td>\n      <td>14-May-97</td>\n      <td>$229,000.00</td>\n      <td>$0.00</td>\n      <td>P I F</td>\n      <td>$0.00</td>\n      <td>$229,000.00</td>\n      <td>$229,000.00</td>\n    </tr>\n  </tbody>\n</table>\n<p>5 rows × 27 columns</p>\n</div>"
     },
     "execution_count": 2,
     "metadata": {},
     "output_type": "execute_result"
    }
   ]
  },
  {
   "cell_type": "code",
   "source": [
    "loans.shape"
   ],
   "metadata": {},
   "execution_count": 3,
   "outputs": [
    {
     "data": {
      "text/plain": "(899164, 27)"
     },
     "execution_count": 3,
     "metadata": {},
     "output_type": "execute_result"
    }
   ]
  },
  {
   "cell_type": "markdown",
   "source": [
    "Data Preparation"
   ],
   "metadata": {
    "collapsed": false
   }
  },
  {
   "cell_type": "code",
   "execution_count": 4,
   "outputs": [],
   "source": [
    "# we want to make a binary value stating if the loan was defaulted or not\n",
    "loans['Defaulted'] = [1 if app == 'CHGOFF' else 0 for app in loans.MIS_Status.values]\n",
    "loans = loans.drop(columns=['MIS_Status'])\n",
    "\n",
    "# we only take the loans created before 2007\n",
    "loans['ApprovalFY'] = loans['ApprovalFY'].replace({'A':'','B':''}, regex = True).astype(int)\n",
    "loans.drop(loans[loans['ApprovalFY']>2007].index, axis = 0, inplace = True)\n",
    "\n",
    "loans = loans.drop(columns=['ApprovalFY','ApprovalDate','DisbursementDate','ChgOffDate','LoanNr_ChkDgt','Name','Zip', 'City'])"
   ],
   "metadata": {
    "collapsed": false,
    "pycharm": {
     "name": "#%%\n"
    }
   }
  },
  {
   "cell_type": "code",
   "execution_count": 5,
   "outputs": [
    {
     "data": {
      "text/plain": "  State                           Bank BankState   NAICS  Term  NoEmp  \\\n0    IN               FIFTH THIRD BANK        OH  451120    84      4   \n1    IN                1ST SOURCE BANK        IN  722410    60      2   \n2    IN        GRANT COUNTY STATE BANK        IN  621210   180      7   \n3    OK  1ST NATL BK & TR CO OF BROKEN        OK       0    60      2   \n4    FL        FLORIDA BUS. DEVEL CORP        FL       0   240     14   \n\n   NewExist  CreateJob  RetainedJob  FranchiseCode  UrbanRural RevLineCr  \\\n0       2.0          0            0              1           0         N   \n1       2.0          0            0              1           0         N   \n2       1.0          0            0              1           0         N   \n3       1.0          0            0              1           0         N   \n4       1.0          7            7              1           0         N   \n\n  LowDoc DisbursementGross BalanceGross ChgOffPrinGr        GrAppv  \\\n0      Y       $60,000.00        $0.00        $0.00    $60,000.00    \n1      Y       $40,000.00        $0.00        $0.00    $40,000.00    \n2      N      $287,000.00        $0.00        $0.00   $287,000.00    \n3      Y       $35,000.00        $0.00        $0.00    $35,000.00    \n4      N      $229,000.00        $0.00        $0.00   $229,000.00    \n\n       SBA_Appv  Defaulted  \n0   $48,000.00           0  \n1   $32,000.00           0  \n2  $215,250.00           0  \n3   $28,000.00           0  \n4  $229,000.00           0  ",
      "text/html": "<div>\n<style scoped>\n    .dataframe tbody tr th:only-of-type {\n        vertical-align: middle;\n    }\n\n    .dataframe tbody tr th {\n        vertical-align: top;\n    }\n\n    .dataframe thead th {\n        text-align: right;\n    }\n</style>\n<table border=\"1\" class=\"dataframe\">\n  <thead>\n    <tr style=\"text-align: right;\">\n      <th></th>\n      <th>State</th>\n      <th>Bank</th>\n      <th>BankState</th>\n      <th>NAICS</th>\n      <th>Term</th>\n      <th>NoEmp</th>\n      <th>NewExist</th>\n      <th>CreateJob</th>\n      <th>RetainedJob</th>\n      <th>FranchiseCode</th>\n      <th>UrbanRural</th>\n      <th>RevLineCr</th>\n      <th>LowDoc</th>\n      <th>DisbursementGross</th>\n      <th>BalanceGross</th>\n      <th>ChgOffPrinGr</th>\n      <th>GrAppv</th>\n      <th>SBA_Appv</th>\n      <th>Defaulted</th>\n    </tr>\n  </thead>\n  <tbody>\n    <tr>\n      <th>0</th>\n      <td>IN</td>\n      <td>FIFTH THIRD BANK</td>\n      <td>OH</td>\n      <td>451120</td>\n      <td>84</td>\n      <td>4</td>\n      <td>2.0</td>\n      <td>0</td>\n      <td>0</td>\n      <td>1</td>\n      <td>0</td>\n      <td>N</td>\n      <td>Y</td>\n      <td>$60,000.00</td>\n      <td>$0.00</td>\n      <td>$0.00</td>\n      <td>$60,000.00</td>\n      <td>$48,000.00</td>\n      <td>0</td>\n    </tr>\n    <tr>\n      <th>1</th>\n      <td>IN</td>\n      <td>1ST SOURCE BANK</td>\n      <td>IN</td>\n      <td>722410</td>\n      <td>60</td>\n      <td>2</td>\n      <td>2.0</td>\n      <td>0</td>\n      <td>0</td>\n      <td>1</td>\n      <td>0</td>\n      <td>N</td>\n      <td>Y</td>\n      <td>$40,000.00</td>\n      <td>$0.00</td>\n      <td>$0.00</td>\n      <td>$40,000.00</td>\n      <td>$32,000.00</td>\n      <td>0</td>\n    </tr>\n    <tr>\n      <th>2</th>\n      <td>IN</td>\n      <td>GRANT COUNTY STATE BANK</td>\n      <td>IN</td>\n      <td>621210</td>\n      <td>180</td>\n      <td>7</td>\n      <td>1.0</td>\n      <td>0</td>\n      <td>0</td>\n      <td>1</td>\n      <td>0</td>\n      <td>N</td>\n      <td>N</td>\n      <td>$287,000.00</td>\n      <td>$0.00</td>\n      <td>$0.00</td>\n      <td>$287,000.00</td>\n      <td>$215,250.00</td>\n      <td>0</td>\n    </tr>\n    <tr>\n      <th>3</th>\n      <td>OK</td>\n      <td>1ST NATL BK &amp; TR CO OF BROKEN</td>\n      <td>OK</td>\n      <td>0</td>\n      <td>60</td>\n      <td>2</td>\n      <td>1.0</td>\n      <td>0</td>\n      <td>0</td>\n      <td>1</td>\n      <td>0</td>\n      <td>N</td>\n      <td>Y</td>\n      <td>$35,000.00</td>\n      <td>$0.00</td>\n      <td>$0.00</td>\n      <td>$35,000.00</td>\n      <td>$28,000.00</td>\n      <td>0</td>\n    </tr>\n    <tr>\n      <th>4</th>\n      <td>FL</td>\n      <td>FLORIDA BUS. DEVEL CORP</td>\n      <td>FL</td>\n      <td>0</td>\n      <td>240</td>\n      <td>14</td>\n      <td>1.0</td>\n      <td>7</td>\n      <td>7</td>\n      <td>1</td>\n      <td>0</td>\n      <td>N</td>\n      <td>N</td>\n      <td>$229,000.00</td>\n      <td>$0.00</td>\n      <td>$0.00</td>\n      <td>$229,000.00</td>\n      <td>$229,000.00</td>\n      <td>0</td>\n    </tr>\n  </tbody>\n</table>\n</div>"
     },
     "execution_count": 5,
     "metadata": {},
     "output_type": "execute_result"
    }
   ],
   "source": [
    "loans.head()"
   ],
   "metadata": {
    "collapsed": false,
    "pycharm": {
     "name": "#%%\n"
    }
   }
  },
  {
   "cell_type": "code",
   "execution_count": 6,
   "outputs": [
    {
     "data": {
      "text/plain": "(802319, 19)"
     },
     "execution_count": 6,
     "metadata": {},
     "output_type": "execute_result"
    }
   ],
   "source": [
    "loans.shape"
   ],
   "metadata": {
    "collapsed": false,
    "pycharm": {
     "name": "#%%\n"
    }
   }
  },
  {
   "cell_type": "code",
   "execution_count": 7,
   "outputs": [],
   "source": [
    "def amount_to_float(number):\n",
    "    num = number.replace(\"$\", \"\")\n",
    "    num = num.replace(\",\",\"\")\n",
    "    num = num.replace(\" \",\"\")\n",
    "    return float(num)\n",
    "\n",
    "#instead of dealing with money as a string we will deal with it as a number\n",
    "loans['BalanceGross'] = loans['BalanceGross'].apply(lambda x: amount_to_float(x))\n",
    "loans['DisbursementGross'] = loans['DisbursementGross'].apply(lambda x: amount_to_float(x))\n",
    "loans['ChgOffPrinGr'] = loans['ChgOffPrinGr'].apply(lambda x: amount_to_float(x))\n",
    "loans['GrAppv'] = loans['GrAppv'].apply(lambda x: amount_to_float(x))\n",
    "loans['SBA_Appv'] = loans['SBA_Appv'].apply(lambda x: amount_to_float(x))"
   ],
   "metadata": {
    "collapsed": false,
    "pycharm": {
     "name": "#%%\n"
    }
   }
  },
  {
   "cell_type": "code",
   "execution_count": 8,
   "outputs": [],
   "source": [
    "# we replace it to be a binary where 1 to be a new business and 0 an old business\n",
    "loans['NewExist'] = loans['NewExist'].replace(1,0)\n",
    "loans['NewExist'] = loans['NewExist'].replace(2,1)"
   ],
   "metadata": {
    "collapsed": false,
    "pycharm": {
     "name": "#%%\n"
    }
   }
  },
  {
   "cell_type": "code",
   "execution_count": 9,
   "outputs": [],
   "source": [
    "# we replace them both to be binary instead of Y and N\n",
    "loans['LowDoc'] = loans['LowDoc'].replace({'Y':'1', 'N':'0'}, regex=True)\n",
    "valid = ['1', '0']\n",
    "loans = loans.loc[loans['LowDoc'].isin(valid)]\n",
    "loans['LowDoc'] = loans['LowDoc'].astype(int)\n",
    "loans['RevLineCr'] = loans['RevLineCr'].replace({'Y':'1', 'N':'0'}, regex=True)\n",
    "loans = loans.loc[loans['RevLineCr'].isin(valid)]\n",
    "loans['RevLineCr'] = loans['RevLineCr'].astype(int)"
   ],
   "metadata": {
    "collapsed": false,
    "pycharm": {
     "name": "#%%\n"
    }
   }
  },
  {
   "cell_type": "code",
   "execution_count": 10,
   "outputs": [],
   "source": [
    "# we make franchise a binary value where 1 is true and 0 is false\n",
    "loans['FranchiseCode'] = loans['FranchiseCode'].replace(1,0)\n",
    "loans['FranchiseCode'] = np.where((loans.FranchiseCode != 0),1,loans.FranchiseCode)\n",
    "loans.rename(columns={\"FranchiseCode\":\"Franchise\"},inplace=True)"
   ],
   "metadata": {
    "collapsed": false,
    "pycharm": {
     "name": "#%%\n"
    }
   }
  },
  {
   "cell_type": "code",
   "execution_count": 11,
   "outputs": [
    {
     "data": {
      "text/plain": "(783512, 19)"
     },
     "execution_count": 11,
     "metadata": {},
     "output_type": "execute_result"
    }
   ],
   "source": [
    "loans.shape"
   ],
   "metadata": {
    "collapsed": false,
    "pycharm": {
     "name": "#%%\n"
    }
   }
  },
  {
   "cell_type": "code",
   "execution_count": 12,
   "outputs": [],
   "source": [
    "loans = pd.get_dummies(loans,columns=['BankState','State'],prefix=['BankState','State'])"
   ],
   "metadata": {
    "collapsed": false,
    "pycharm": {
     "name": "#%%\n"
    }
   }
  },
  {
   "cell_type": "code",
   "execution_count": 13,
   "outputs": [],
   "source": [
    "#only take the first 2 digits from the NAICS values\n",
    "def first_n_digits(number, n):\n",
    "    return int(str(number)[:n])\n",
    "loans['NAICS'] = loans['NAICS'].apply(lambda x: first_n_digits(x,2))"
   ],
   "metadata": {
    "collapsed": false,
    "pycharm": {
     "name": "#%%\n"
    }
   }
  },
  {
   "cell_type": "code",
   "execution_count": 14,
   "outputs": [
    {
     "data": {
      "text/plain": "                            Bank  NAICS  Term  NoEmp  NewExist  CreateJob  \\\n0               FIFTH THIRD BANK     45    84      4       1.0          0   \n1                1ST SOURCE BANK     72    60      2       1.0          0   \n2        GRANT COUNTY STATE BANK     62   180      7       0.0          0   \n3  1ST NATL BK & TR CO OF BROKEN      0    60      2       0.0          0   \n4        FLORIDA BUS. DEVEL CORP      0   240     14       0.0          7   \n\n   RetainedJob  Franchise  UrbanRural  RevLineCr  ...  State_SD  State_TN  \\\n0            0          0           0          0  ...         0         0   \n1            0          0           0          0  ...         0         0   \n2            0          0           0          0  ...         0         0   \n3            0          0           0          0  ...         0         0   \n4            7          0           0          0  ...         0         0   \n\n   State_TX  State_UT  State_VA  State_VT  State_WA  State_WI  State_WV  \\\n0         0         0         0         0         0         0         0   \n1         0         0         0         0         0         0         0   \n2         0         0         0         0         0         0         0   \n3         0         0         0         0         0         0         0   \n4         0         0         0         0         0         0         0   \n\n   State_WY  \n0         0  \n1         0  \n2         0  \n3         0  \n4         0  \n\n[5 rows x 123 columns]",
      "text/html": "<div>\n<style scoped>\n    .dataframe tbody tr th:only-of-type {\n        vertical-align: middle;\n    }\n\n    .dataframe tbody tr th {\n        vertical-align: top;\n    }\n\n    .dataframe thead th {\n        text-align: right;\n    }\n</style>\n<table border=\"1\" class=\"dataframe\">\n  <thead>\n    <tr style=\"text-align: right;\">\n      <th></th>\n      <th>Bank</th>\n      <th>NAICS</th>\n      <th>Term</th>\n      <th>NoEmp</th>\n      <th>NewExist</th>\n      <th>CreateJob</th>\n      <th>RetainedJob</th>\n      <th>Franchise</th>\n      <th>UrbanRural</th>\n      <th>RevLineCr</th>\n      <th>...</th>\n      <th>State_SD</th>\n      <th>State_TN</th>\n      <th>State_TX</th>\n      <th>State_UT</th>\n      <th>State_VA</th>\n      <th>State_VT</th>\n      <th>State_WA</th>\n      <th>State_WI</th>\n      <th>State_WV</th>\n      <th>State_WY</th>\n    </tr>\n  </thead>\n  <tbody>\n    <tr>\n      <th>0</th>\n      <td>FIFTH THIRD BANK</td>\n      <td>45</td>\n      <td>84</td>\n      <td>4</td>\n      <td>1.0</td>\n      <td>0</td>\n      <td>0</td>\n      <td>0</td>\n      <td>0</td>\n      <td>0</td>\n      <td>...</td>\n      <td>0</td>\n      <td>0</td>\n      <td>0</td>\n      <td>0</td>\n      <td>0</td>\n      <td>0</td>\n      <td>0</td>\n      <td>0</td>\n      <td>0</td>\n      <td>0</td>\n    </tr>\n    <tr>\n      <th>1</th>\n      <td>1ST SOURCE BANK</td>\n      <td>72</td>\n      <td>60</td>\n      <td>2</td>\n      <td>1.0</td>\n      <td>0</td>\n      <td>0</td>\n      <td>0</td>\n      <td>0</td>\n      <td>0</td>\n      <td>...</td>\n      <td>0</td>\n      <td>0</td>\n      <td>0</td>\n      <td>0</td>\n      <td>0</td>\n      <td>0</td>\n      <td>0</td>\n      <td>0</td>\n      <td>0</td>\n      <td>0</td>\n    </tr>\n    <tr>\n      <th>2</th>\n      <td>GRANT COUNTY STATE BANK</td>\n      <td>62</td>\n      <td>180</td>\n      <td>7</td>\n      <td>0.0</td>\n      <td>0</td>\n      <td>0</td>\n      <td>0</td>\n      <td>0</td>\n      <td>0</td>\n      <td>...</td>\n      <td>0</td>\n      <td>0</td>\n      <td>0</td>\n      <td>0</td>\n      <td>0</td>\n      <td>0</td>\n      <td>0</td>\n      <td>0</td>\n      <td>0</td>\n      <td>0</td>\n    </tr>\n    <tr>\n      <th>3</th>\n      <td>1ST NATL BK &amp; TR CO OF BROKEN</td>\n      <td>0</td>\n      <td>60</td>\n      <td>2</td>\n      <td>0.0</td>\n      <td>0</td>\n      <td>0</td>\n      <td>0</td>\n      <td>0</td>\n      <td>0</td>\n      <td>...</td>\n      <td>0</td>\n      <td>0</td>\n      <td>0</td>\n      <td>0</td>\n      <td>0</td>\n      <td>0</td>\n      <td>0</td>\n      <td>0</td>\n      <td>0</td>\n      <td>0</td>\n    </tr>\n    <tr>\n      <th>4</th>\n      <td>FLORIDA BUS. DEVEL CORP</td>\n      <td>0</td>\n      <td>240</td>\n      <td>14</td>\n      <td>0.0</td>\n      <td>7</td>\n      <td>7</td>\n      <td>0</td>\n      <td>0</td>\n      <td>0</td>\n      <td>...</td>\n      <td>0</td>\n      <td>0</td>\n      <td>0</td>\n      <td>0</td>\n      <td>0</td>\n      <td>0</td>\n      <td>0</td>\n      <td>0</td>\n      <td>0</td>\n      <td>0</td>\n    </tr>\n  </tbody>\n</table>\n<p>5 rows × 123 columns</p>\n</div>"
     },
     "execution_count": 14,
     "metadata": {},
     "output_type": "execute_result"
    }
   ],
   "source": [
    "loans.head()"
   ],
   "metadata": {
    "collapsed": false,
    "pycharm": {
     "name": "#%%\n"
    }
   }
  },
  {
   "cell_type": "code",
   "execution_count": 15,
   "outputs": [
    {
     "data": {
      "text/plain": "array([45, 72, 62,  0, 33, 81, 23, 44, 42, 61, 53, 54, 31, 51, 71, 52, 21,\n       32, 56, 48, 11, 92, 22, 49, 55], dtype=int64)"
     },
     "execution_count": 15,
     "metadata": {},
     "output_type": "execute_result"
    }
   ],
   "source": [
    "loans['NAICS'].unique()"
   ],
   "metadata": {
    "collapsed": false,
    "pycharm": {
     "name": "#%%\n"
    }
   }
  },
  {
   "cell_type": "code",
   "execution_count": 16,
   "outputs": [
    {
     "data": {
      "text/plain": "Bank         object\nNAICS         int64\nTerm          int64\nNoEmp         int64\nNewExist    float64\n             ...   \nState_VT      uint8\nState_WA      uint8\nState_WI      uint8\nState_WV      uint8\nState_WY      uint8\nLength: 123, dtype: object"
     },
     "execution_count": 16,
     "metadata": {},
     "output_type": "execute_result"
    }
   ],
   "source": [
    "loans.dtypes"
   ],
   "metadata": {
    "collapsed": false,
    "pycharm": {
     "name": "#%%\n"
    }
   }
  },
  {
   "cell_type": "markdown",
   "source": [
    "Modeling"
   ],
   "metadata": {
    "collapsed": false
   }
  },
  {
   "cell_type": "code",
   "execution_count": 17,
   "outputs": [],
   "source": [
    "y = loans['Defaulted']\n",
    "X = loans.drop(columns=['Defaulted'])\n",
    "X_train, X_test, y_train, y_test = train_test_split(X, y, random_state=0, stratify=y)"
   ],
   "metadata": {
    "collapsed": false,
    "pycharm": {
     "name": "#%%\n"
    }
   }
  },
  {
   "cell_type": "code",
   "execution_count": 17,
   "outputs": [],
   "source": [],
   "metadata": {
    "collapsed": false,
    "pycharm": {
     "name": "#%%\n"
    }
   }
  },
  {
   "cell_type": "code",
   "execution_count": 17,
   "outputs": [],
   "source": [],
   "metadata": {
    "collapsed": false,
    "pycharm": {
     "name": "#%%\n"
    }
   }
  },
  {
   "cell_type": "code",
   "execution_count": 17,
   "outputs": [],
   "source": [],
   "metadata": {
    "collapsed": false,
    "pycharm": {
     "name": "#%%\n"
    }
   }
  }
 ]
}